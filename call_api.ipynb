{
 "cells": [
  {
   "cell_type": "code",
   "execution_count": 294,
   "metadata": {},
   "outputs": [],
   "source": [
    "import pandas as pd\n",
    "import json\n",
    "import requests\n"
   ]
  },
  {
   "cell_type": "code",
   "execution_count": 494,
   "metadata": {},
   "outputs": [],
   "source": [
    "import argparse"
   ]
  },
  {
   "cell_type": "code",
   "execution_count": 500,
   "metadata": {},
   "outputs": [],
   "source": [
    "class ImmobiliareApi:\n",
    "    '''\n",
    "    page_number : number of the page, max 80, 25 advert for each (2000 total)\n",
    "    minimum_price - maximum_price : the range of the price\n",
    "    province : RM\n",
    "    contract_type : \n",
    "        - 1: Vendita,\n",
    "        - 2: Affitto, \n",
    "        - 14: Asta \n",
    "    advert_type:\n",
    "        - 1: Case - Appartamenti\n",
    "        - 6: Nuove costruzioni\n",
    "        - 4: Terreni\n",
    "    '''\n",
    "\n",
    "    def __init__(self, \n",
    "                minimum_price,\n",
    "                maximum_price,\n",
    "                contract_type=1 ,\n",
    "                advert_type=1,\n",
    "                province='RM'):\n",
    "        \n",
    "        # self.page_number = str(page_number)\n",
    "        self.minimum_price = str(int(minimum_price))\n",
    "        self.maximum_price = str(int(maximum_price))\n",
    "        self.province = str(province)\n",
    "        self.contract_type = str(int(contract_type))\n",
    "        self.advert_type = str(advert_type)\n",
    "        \n",
    "    def single_page_call(self, page_number):\n",
    "        \n",
    "        assert (int(page_number)>0) & (int(page_number)<81)\n",
    "\n",
    "        page_number = str(page_number)\n",
    "        \n",
    "        url = f\"https://www.immobiliare.it/api-next/search-list/real-estates/?path= &idContratto={self.contract_type}&criterio=rilevanza&pag={page_number}&prezzoMinimo={self.minimum_price}&prezzoMassimo={self.maximum_price}&idProvincia={self.province}&idCategoria={self.advert_type}\"\n",
    "        \n",
    "        response = requests.request(\"GET\", url, headers={}, data={})\n",
    "        \n",
    "        data = json.loads(response.text)\n",
    "\n",
    "        index_name = '_'.join([\n",
    "                self.province, \\\n",
    "                self.minimum_price, \\\n",
    "                self.maximum_price, \\\n",
    "                page_number, \\\n",
    "                self.contract_type, \\\n",
    "                self.advert_type, \\\n",
    "                ])\n",
    "\n",
    "        data['index_name'] = index_name\n",
    "        \n",
    "        return data\n",
    "    \n",
    "    def write_to_folder(self):\n",
    "        pass\n",
    "    \n",
    "    def call_report(self):\n",
    "        \n",
    "        tmp_call = self.single_page_call(page_number=1)\n",
    "        # print( tmp_call)\n",
    "        print(\n",
    "            '\\n# API Call Report', \\\n",
    "            '\\n\\n## Parameters', \\\n",
    "            '\\nprovince :' , self.province, \\\n",
    "            '\\nminimum_price :' , self.minimum_price, \\\n",
    "            '\\nmaximum_price :' , self.maximum_price, \\\n",
    "            '\\ncontract_type :' , self.contract_type, \\\n",
    "            '\\nadvert_type : ', self.advert_type, \\\n",
    "            '\\n\\n## Statistics', \\\n",
    "            '\\nTotal ads :', tmp_call['totalAds'], \\\n",
    "            '\\nMax pages :', tmp_call['maxPages'], \\\n",
    "        )\n",
    "        \n",
    "def main():\n",
    "    minimum_price = 10000\n",
    "    maximum_price = 20000\n",
    "    contract_type = 1\n",
    "    advert_type = 1\n",
    "    province = 'RM'\n",
    "    page_number = 1\n",
    "\n",
    "    call_api = ImmobiliareApi(\n",
    "        minimum_price=minimum_price,\n",
    "        maximum_price=maximum_price,\n",
    "        contract_type=contract_type,\n",
    "        advert_type=advert_type,\n",
    "        province=province\n",
    "    )\n",
    "\n",
    "    call_api.call_report()    \n"
   ]
  },
  {
   "cell_type": "code",
   "execution_count": 502,
   "metadata": {},
   "outputs": [
    {
     "name": "stdout",
     "output_type": "stream",
     "text": [
      "\n",
      "# API Call Report \n",
      "\n",
      "## Parameters \n",
      "province : RM \n",
      "minimum_price : 10000 \n",
      "maximum_price : 20000 \n",
      "contract_type : 1 \n",
      "advert_type :  1 \n",
      "\n",
      "## Statistics \n",
      "Total ads : 407 \n",
      "Max pages : 17\n"
     ]
    }
   ],
   "source": [
    "if __name__ == \"__main__\":\n",
    "    main()"
   ]
  }
 ],
 "metadata": {
  "kernelspec": {
   "display_name": "fistik",
   "language": "python",
   "name": "python3"
  },
  "language_info": {
   "codemirror_mode": {
    "name": "ipython",
    "version": 3
   },
   "file_extension": ".py",
   "mimetype": "text/x-python",
   "name": "python",
   "nbconvert_exporter": "python",
   "pygments_lexer": "ipython3",
   "version": "3.9.15"
  },
  "orig_nbformat": 4
 },
 "nbformat": 4,
 "nbformat_minor": 2
}
