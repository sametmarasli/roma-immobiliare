{
 "cells": [
  {
   "cell_type": "code",
   "execution_count": 30,
   "metadata": {},
   "outputs": [
    {
     "name": "stdout",
     "output_type": "stream",
     "text": [
      "The autoreload extension is already loaded. To reload it, use:\n",
      "  %reload_ext autoreload\n"
     ]
    }
   ],
   "source": [
    "import pandas as pd\n",
    "import json\n",
    "import requests\n",
    "from src.immobiliare_api import ImmobiliareApi\n",
    "import numpy as np\n",
    "from datetime import date\n",
    "from pathlib import Path\n",
    "from tqdm import tqdm\n",
    "\n",
    "%load_ext autoreload\n",
    "%autoreload 2"
   ]
  },
  {
   "cell_type": "code",
   "execution_count": 133,
   "metadata": {},
   "outputs": [
    {
     "name": "stderr",
     "output_type": "stream",
     "text": [
      "  0%|          | 0/4 [00:00<?, ?it/s]"
     ]
    },
    {
     "name": "stdout",
     "output_type": "stream",
     "text": [
      "increment no: 0\n",
      "page number no: 1 of  11\n",
      "page number no: 2 of  11\n",
      "page number no: 3 of  11\n",
      "page number no: 4 of  11\n",
      "page number no: 5 of  11\n",
      "page number no: 6 of  11\n",
      "page number no: 7 of  11\n",
      "page number no: 8 of  11\n",
      "page number no: 9 of  11\n",
      "page number no: 10 of  11\n",
      "page number no: 11 of  11\n"
     ]
    },
    {
     "name": "stderr",
     "output_type": "stream",
     "text": [
      " 25%|██▌       | 1/4 [00:09<00:27,  9.17s/it]"
     ]
    },
    {
     "name": "stdout",
     "output_type": "stream",
     "text": [
      "increment no: 1\n",
      "page number no: 1 of  20\n",
      "page number no: 2 of  20\n",
      "page number no: 3 of  20\n",
      "page number no: 4 of  20\n",
      "page number no: 5 of  20\n",
      "page number no: 6 of  20\n",
      "page number no: 7 of  20\n",
      "page number no: 8 of  20\n",
      "page number no: 9 of  20\n",
      "page number no: 10 of  20\n",
      "page number no: 11 of  20\n",
      "page number no: 12 of  20\n",
      "page number no: 13 of  20\n",
      "page number no: 14 of  20\n",
      "page number no: 15 of  20\n",
      "page number no: 16 of  20\n",
      "page number no: 17 of  20\n",
      "page number no: 18 of  20\n",
      "page number no: 19 of  20\n",
      "page number no: 20 of  20\n"
     ]
    },
    {
     "name": "stderr",
     "output_type": "stream",
     "text": [
      " 50%|█████     | 2/4 [00:27<00:28, 14.38s/it]"
     ]
    },
    {
     "name": "stdout",
     "output_type": "stream",
     "text": [
      "increment no: 2\n",
      "page number no: 1 of  17\n",
      "page number no: 2 of  17\n",
      "page number no: 3 of  17\n",
      "page number no: 4 of  17\n",
      "page number no: 5 of  17\n",
      "page number no: 6 of  17\n",
      "page number no: 7 of  17\n",
      "page number no: 8 of  17\n",
      "page number no: 9 of  17\n",
      "page number no: 10 of  17\n",
      "page number no: 11 of  17\n",
      "page number no: 12 of  17\n",
      "page number no: 13 of  17\n",
      "page number no: 14 of  17\n",
      "page number no: 15 of  17\n",
      "page number no: 16 of  17\n",
      "page number no: 17 of  17\n"
     ]
    },
    {
     "name": "stderr",
     "output_type": "stream",
     "text": [
      " 75%|███████▌  | 3/4 [00:41<00:14, 14.44s/it]"
     ]
    },
    {
     "name": "stdout",
     "output_type": "stream",
     "text": [
      "increment no: 3\n",
      "page number no: 1 of  30\n",
      "page number no: 2 of  30\n",
      "page number no: 3 of  30\n",
      "page number no: 4 of  30\n",
      "page number no: 5 of  30\n",
      "page number no: 6 of  30\n",
      "page number no: 7 of  30\n",
      "page number no: 8 of  30\n",
      "page number no: 9 of  30\n",
      "page number no: 10 of  30\n",
      "page number no: 11 of  30\n",
      "page number no: 12 of  30\n",
      "page number no: 13 of  30\n",
      "page number no: 14 of  30\n",
      "page number no: 15 of  30\n",
      "page number no: 16 of  30\n",
      "page number no: 17 of  30\n",
      "page number no: 18 of  30\n",
      "page number no: 19 of  30\n",
      "page number no: 20 of  30\n",
      "page number no: 21 of  30\n",
      "page number no: 22 of  30\n",
      "page number no: 23 of  30\n",
      "page number no: 24 of  30\n",
      "page number no: 25 of  30\n",
      "page number no: 26 of  30\n",
      "page number no: 27 of  30\n",
      "page number no: 28 of  30\n",
      "page number no: 29 of  30\n",
      "page number no: 30 of  30\n"
     ]
    },
    {
     "name": "stderr",
     "output_type": "stream",
     "text": [
      "100%|██████████| 4/4 [01:04<00:00, 16.18s/it]\n"
     ]
    }
   ],
   "source": [
    "# YY/mm/dd\n",
    "today = date.today().strftime(\"%Y%m%d\")\n",
    "\n",
    "date_path = Path.cwd() \\\n",
    "    .joinpath('data') \\\n",
    "    .joinpath(today)\n",
    "\n",
    "date_path.mkdir(parents=True, exist_ok=True)\n",
    "\n",
    "\n",
    "for K in tqdm(range(4)):\n",
    "    \n",
    "    print('increment no:', K)\n",
    "\n",
    "    INCREMENT = 2_500\n",
    "    MINPRICE = 100_000 + K * INCREMENT\n",
    "    MAXPRICE = MINPRICE + INCREMENT\n",
    "\n",
    "    immo_api = ImmobiliareApi(minimum_price=MINPRICE, maximum_price=MAXPRICE)\n",
    "    \n",
    "    report = immo_api.call_report()\n",
    "    \n",
    "\n",
    "    for PAGE_NUMBER in range(1, report['max_pages']+1):\n",
    "        print('page number no:', PAGE_NUMBER, 'of ', report['max_pages'])\n",
    "        data = immo_api.single_page_call(page_number=PAGE_NUMBER)\n",
    "        \n",
    "        file_name = f\"{MINPRICE}_{MAXPRICE}_{PAGE_NUMBER}.json\"\n",
    "        \n",
    "        filepath = date_path.joinpath(file_name)\n",
    "\n",
    "        with filepath.open(\"w\", encoding=\"UTF-8\") as target: \n",
    "            json.dump(data, target)\n",
    "                \n",
    "\n",
    "    "
   ]
  },
  {
   "cell_type": "code",
   "execution_count": null,
   "metadata": {},
   "outputs": [],
   "source": []
  }
 ],
 "metadata": {
  "kernelspec": {
   "display_name": "fistik",
   "language": "python",
   "name": "python3"
  },
  "language_info": {
   "codemirror_mode": {
    "name": "ipython",
    "version": 3
   },
   "file_extension": ".py",
   "mimetype": "text/x-python",
   "name": "python",
   "nbconvert_exporter": "python",
   "pygments_lexer": "ipython3",
   "version": "3.9.15"
  },
  "orig_nbformat": 4
 },
 "nbformat": 4,
 "nbformat_minor": 2
}
