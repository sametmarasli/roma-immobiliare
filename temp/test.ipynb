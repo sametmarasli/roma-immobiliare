{
 "cells": [
  {
   "cell_type": "code",
   "execution_count": 1,
   "metadata": {},
   "outputs": [
    {
     "name": "stdout",
     "output_type": "stream",
     "text": [
      "The autoreload extension is already loaded. To reload it, use:\n",
      "  %reload_ext autoreload\n"
     ]
    }
   ],
   "source": [
    "import pandas as pd\n",
    "from src.immobiliare_api import ImmobiliareApi\n",
    "import numpy as np\n",
    "from datetime import date\n",
    "from pathlib import Path\n",
    "from tqdm import tqdm\n",
    "import json \n",
    "from src.ingest_data import IngestData\n",
    "\n",
    "%load_ext autoreload\n",
    "%autoreload 2"
   ]
  },
  {
   "cell_type": "code",
   "execution_count": 5,
   "metadata": {},
   "outputs": [],
   "source": [
    "from prefect_gcp.cloud_storage import GcsBucket\n"
   ]
  },
  {
   "cell_type": "code",
   "execution_count": 2,
   "metadata": {},
   "outputs": [],
   "source": [
    "api_call = ImmobiliareApi(minimum_price=1e5, maximum_price=2e5)\n",
    "data = api_call.single_page_call(page_number=1)\n"
   ]
  },
  {
   "cell_type": "code",
   "execution_count": 6,
   "metadata": {},
   "outputs": [
    {
     "ename": "AttributeError",
     "evalue": "'coroutine' object has no attribute 'write_path'",
     "output_type": "error",
     "traceback": [
      "\u001b[0;31m---------------------------------------------------------------------------\u001b[0m",
      "\u001b[0;31mAttributeError\u001b[0m                            Traceback (most recent call last)",
      "Cell \u001b[0;32mIn[6], line 2\u001b[0m\n\u001b[1;32m      1\u001b[0m bucket \u001b[39m=\u001b[39m GcsBucket\u001b[39m.\u001b[39mload(\u001b[39m\"\u001b[39m\u001b[39mroma-gcs\u001b[39m\u001b[39m\"\u001b[39m)\n\u001b[0;32m----> 2\u001b[0m bucket\u001b[39m.\u001b[39;49mwrite_path(path\u001b[39m=\u001b[39m\u001b[39m'\u001b[39m\u001b[39mtest.json\u001b[39m\u001b[39m'\u001b[39m,content\u001b[39m=\u001b[39mdata)\n",
      "\u001b[0;31mAttributeError\u001b[0m: 'coroutine' object has no attribute 'write_path'"
     ]
    }
   ],
   "source": [
    "bucket = GcsBucket.load(\"roma-gcs\")\n",
    "bucket.write_path(path='test.json',content=data)"
   ]
  },
  {
   "cell_type": "code",
   "execution_count": null,
   "metadata": {},
   "outputs": [],
   "source": []
  },
  {
   "cell_type": "code",
   "execution_count": 21,
   "metadata": {},
   "outputs": [],
   "source": [
    "ingest_data = IngestData(\n",
    "    min_price=10_000,\n",
    "    max_price=20_000,\n",
    ")"
   ]
  },
  {
   "cell_type": "code",
   "execution_count": 22,
   "metadata": {},
   "outputs": [
    {
     "name": "stderr",
     "output_type": "stream",
     "text": [
      "  0%|          | 0/4 [00:00<?, ?it/s]"
     ]
    },
    {
     "name": "stdout",
     "output_type": "stream",
     "text": [
      "self.increment no: 0\n",
      "page number no: 1 of  2\n",
      "page number no: 2 of  2\n"
     ]
    },
    {
     "name": "stderr",
     "output_type": "stream",
     "text": [
      " 25%|██▌       | 1/4 [00:00<00:02,  1.03it/s]"
     ]
    },
    {
     "name": "stdout",
     "output_type": "stream",
     "text": [
      "self.increment no: 1\n",
      "page number no: 1 of  4\n",
      "page number no: 2 of  4\n",
      "page number no: 3 of  4\n",
      "page number no: 4 of  4\n"
     ]
    },
    {
     "name": "stderr",
     "output_type": "stream",
     "text": [
      " 50%|█████     | 2/4 [00:02<00:03,  1.51s/it]"
     ]
    },
    {
     "name": "stdout",
     "output_type": "stream",
     "text": [
      "self.increment no: 2\n",
      "page number no: 1 of  4\n",
      "page number no: 2 of  4\n",
      "page number no: 3 of  4\n",
      "page number no: 4 of  4\n"
     ]
    },
    {
     "name": "stderr",
     "output_type": "stream",
     "text": [
      " 75%|███████▌  | 3/4 [00:05<00:02,  2.22s/it]"
     ]
    },
    {
     "name": "stdout",
     "output_type": "stream",
     "text": [
      "self.increment no: 3\n",
      "page number no: 1 of  7\n",
      "page number no: 2 of  7\n",
      "page number no: 3 of  7\n",
      "page number no: 4 of  7\n",
      "page number no: 5 of  7\n",
      "page number no: 6 of  7\n",
      "page number no: 7 of  7\n"
     ]
    },
    {
     "name": "stderr",
     "output_type": "stream",
     "text": [
      "100%|██████████| 4/4 [00:09<00:00,  2.29s/it]\n"
     ]
    }
   ],
   "source": [
    "ingest_data.daily_ingest()"
   ]
  }
 ],
 "metadata": {
  "kernelspec": {
   "display_name": "fistik",
   "language": "python",
   "name": "python3"
  },
  "language_info": {
   "codemirror_mode": {
    "name": "ipython",
    "version": 3
   },
   "file_extension": ".py",
   "mimetype": "text/x-python",
   "name": "python",
   "nbconvert_exporter": "python",
   "pygments_lexer": "ipython3",
   "version": "3.10.4"
  },
  "orig_nbformat": 4
 },
 "nbformat": 4,
 "nbformat_minor": 2
}
