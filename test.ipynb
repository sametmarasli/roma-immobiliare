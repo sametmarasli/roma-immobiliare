{
 "cells": [
  {
   "cell_type": "code",
   "execution_count": 1,
   "metadata": {},
   "outputs": [],
   "source": [
    "from pathlib import Path\n",
    "import pandas as pd\n",
    "\n",
    "%load_ext autoreload\n",
    "%autoreload 2"
   ]
  },
  {
   "cell_type": "code",
   "execution_count": null,
   "metadata": {},
   "outputs": [],
   "source": [
    "# str(Path('gs://bucket-prova-1881').joinpath('202307'))"
   ]
  },
  {
   "cell_type": "code",
   "execution_count": null,
   "metadata": {},
   "outputs": [],
   "source": [
    "from src.pipeline.call_api import CallApi \n",
    "from src.models import ApiParameters"
   ]
  },
  {
   "cell_type": "code",
   "execution_count": null,
   "metadata": {},
   "outputs": [],
   "source": [
    "from src.storage.local import StorageLocal"
   ]
  },
  {
   "cell_type": "code",
   "execution_count": null,
   "metadata": {},
   "outputs": [],
   "source": [
    "params = ApiParameters(prezzoMinimo=90_000,prezzoMassimo=91_000)\n",
    "\n",
    "results = CallApi().get_all_paginated_results(params)\n",
    "print(f\"Total records: {len(results)}\")\n"
   ]
  },
  {
   "cell_type": "code",
   "execution_count": null,
   "metadata": {},
   "outputs": [],
   "source": [
    "file_path = StorageLocal().serialize_api_results(\n",
    "    path_to_serialize='./data/',\n",
    "    parameters=params,\n",
    "    results=results\n",
    ")"
   ]
  },
  {
   "cell_type": "code",
   "execution_count": null,
   "metadata": {},
   "outputs": [],
   "source": [
    "import os\n",
    "import pathlib\n",
    "import typing\n",
    "\n",
    "Union[str, os.PathLike]"
   ]
  },
  {
   "cell_type": "code",
   "execution_count": null,
   "metadata": {},
   "outputs": [],
   "source": [
    "import json\n",
    "from io import StringIO\n",
    "\n",
    "in_json = StringIO(\"\"\"[{\n",
    "    \"key01\": \"value01\",\n",
    "    \"key02\": \"value02\",\n",
    "\n",
    "    \"keyN\": \"valueN\"\n",
    "},\n",
    "{\n",
    "    \"key01\": \"value01\",\n",
    "    \"key02\": \"value02\",\n",
    "\n",
    "    \"keyN\": \"valueN\"\n",
    "},\n",
    "{\n",
    "    \"key01\": \"value01\",\n",
    "    \"key02\": \"value02\",\n",
    "\n",
    "    \"keyN\": \"valueN\"\n",
    "}\n",
    "]\"\"\")\n"
   ]
  },
  {
   "cell_type": "code",
   "execution_count": null,
   "metadata": {},
   "outputs": [],
   "source": [
    "result = [json.dumps(record) for record in json.load(in_json)]  # the only significant line to convert the JSON to the desired format\n"
   ]
  },
  {
   "cell_type": "code",
   "execution_count": null,
   "metadata": {},
   "outputs": [],
   "source": [
    "print('\\n'.join(result))\n",
    "data = df.to_dict('records') \n",
    "output = open('test.json', 'w') \n",
    "output.write('\\n'.join([json.dumps(record) for record in data])) \n",
    "output.close()"
   ]
  },
  {
   "cell_type": "code",
   "execution_count": null,
   "metadata": {},
   "outputs": [],
   "source": [
    "from src.models import AdvertSchema\n",
    "import json \n",
    "\n",
    "data = []\n",
    "with open('./data/20230704/90000_90500.json') as f:\n",
    "    for line in f:\n",
    "        j_content = json.loads(line)\n",
    "        data.append(AdvertSchema.from_dict(j_content))\n",
    "        # print(line)"
   ]
  },
  {
   "cell_type": "code",
   "execution_count": null,
   "metadata": {},
   "outputs": [],
   "source": [
    "data[0].realEstate.properties[0].multimedia"
   ]
  },
  {
   "cell_type": "code",
   "execution_count": 47,
   "metadata": {},
   "outputs": [],
   "source": [
    "from src.storage.bigquery import StorageBigQuery"
   ]
  },
  {
   "cell_type": "code",
   "execution_count": 48,
   "metadata": {},
   "outputs": [],
   "source": [
    "big_query = StorageBigQuery(\n",
    "dataset_id = 'dwh_prova_1881',\n",
    "table_id = 'table_prova_1881')\n",
    "\n",
    "# big_query.ingest_data_to_bigquery(gcs_uri = 'gs://bucket-prova-1881/',\n",
    "#                                  file_path='data/20230704/90000_90500.json')\n",
    "# print('data_ingested')\n",
    "\n",
    "table_schema = big_query.extract_table_schema()\n",
    "# print(table_schema)\n"
   ]
  },
  {
   "cell_type": "code",
   "execution_count": 53,
   "metadata": {},
   "outputs": [],
   "source": [
    "import json \n",
    "def serialize_json_schema(schema):\n",
    "    serialized_schema = [field.to_api_repr() for field in schema]\n",
    "    return json.dumps(serialized_schema)\n",
    "\n"
   ]
  },
  {
   "cell_type": "code",
   "execution_count": 54,
   "metadata": {},
   "outputs": [
    {
     "data": {
      "text/plain": [
       "'[{\"name\": \"seo\", \"type\": \"RECORD\", \"mode\": \"NULLABLE\", \"fields\": [{\"name\": \"url\", \"type\": \"STRING\", \"mode\": \"NULLABLE\"}, {\"name\": \"metaTitle\", \"type\": \"STRING\", \"mode\": \"NULLABLE\"}, {\"name\": \"title\", \"type\": \"STRING\", \"mode\": \"NULLABLE\"}, {\"name\": \"anchor\", \"type\": \"STRING\", \"mode\": \"NULLABLE\"}]}, {\"name\": \"realEstate\", \"type\": \"RECORD\", \"mode\": \"NULLABLE\", \"fields\": [{\"name\": \"visibility\", \"type\": \"STRING\", \"mode\": \"NULLABLE\"}, {\"name\": \"isProjectLike\", \"type\": \"BOOLEAN\", \"mode\": \"NULLABLE\"}, {\"name\": \"hasMainProperty\", \"type\": \"BOOLEAN\", \"mode\": \"NULLABLE\"}, {\"name\": \"isNew\", \"type\": \"BOOLEAN\", \"mode\": \"NULLABLE\"}, {\"name\": \"properties\", \"type\": \"RECORD\", \"mode\": \"REPEATED\", \"fields\": [{\"name\": \"bathrooms\", \"type\": \"STRING\", \"mode\": \"NULLABLE\"}, {\"name\": \"caption\", \"type\": \"STRING\", \"mode\": \"NULLABLE\"}, {\"name\": \"floors\", \"type\": \"STRING\", \"mode\": \"NULLABLE\"}, {\"name\": \"condition\", \"type\": \"STRING\", \"mode\": \"NULLABLE\"}, {\"name\": \"ga4features\", \"type\": \"STRING\", \"mode\": \"REPEATED\"}, {\"name\": \"ga4Bathrooms\", \"type\": \"STRING\", \"mode\": \"NULLABLE\"}, {\"name\": \"typologyGA4Translation\", \"type\": \"STRING\", \"mode\": \"NULLABLE\"}, {\"name\": \"bedRoomsNumber\", \"type\": \"STRING\", \"mode\": \"NULLABLE\"}, {\"name\": \"floor\", \"type\": \"RECORD\", \"mode\": \"NULLABLE\", \"fields\": [{\"name\": \"ga4FloorValue\", \"type\": \"STRING\", \"mode\": \"NULLABLE\"}, {\"name\": \"value\", \"type\": \"STRING\", \"mode\": \"NULLABLE\"}, {\"name\": \"abbreviation\", \"type\": \"STRING\", \"mode\": \"NULLABLE\"}]}, {\"name\": \"hasElevators\", \"type\": \"BOOLEAN\", \"mode\": \"NULLABLE\"}, {\"name\": \"location\", \"type\": \"RECORD\", \"mode\": \"NULLABLE\", \"fields\": [{\"name\": \"microzone\", \"type\": \"STRING\", \"mode\": \"NULLABLE\"}, {\"name\": \"nation\", \"type\": \"RECORD\", \"mode\": \"NULLABLE\", \"fields\": [{\"name\": \"keyurl\", \"type\": \"STRING\", \"mode\": \"NULLABLE\"}, {\"name\": \"name\", \"type\": \"STRING\", \"mode\": \"NULLABLE\"}, {\"name\": \"id\", \"type\": \"STRING\", \"mode\": \"NULLABLE\"}]}, {\"name\": \"province\", \"type\": \"STRING\", \"mode\": \"NULLABLE\"}, {\"name\": \"macrozone\", \"type\": \"STRING\", \"mode\": \"NULLABLE\"}, {\"name\": \"region\", \"type\": \"STRING\", \"mode\": \"NULLABLE\"}, {\"name\": \"city\", \"type\": \"STRING\", \"mode\": \"NULLABLE\"}, {\"name\": \"longitude\", \"type\": \"FLOAT\", \"mode\": \"NULLABLE\"}, {\"name\": \"marker\", \"type\": \"STRING\", \"mode\": \"NULLABLE\"}, {\"name\": \"latitude\", \"type\": \"FLOAT\", \"mode\": \"NULLABLE\"}]}, {\"name\": \"typologyV2\", \"type\": \"RECORD\", \"mode\": \"NULLABLE\", \"fields\": [{\"name\": \"name\", \"type\": \"STRING\", \"mode\": \"NULLABLE\"}, {\"name\": \"id\", \"type\": \"INTEGER\", \"mode\": \"NULLABLE\"}]}, {\"name\": \"multimedia\", \"type\": \"RECORD\", \"mode\": \"NULLABLE\", \"fields\": [{\"name\": \"photos\", \"type\": \"RECORD\", \"mode\": \"REPEATED\", \"fields\": [{\"name\": \"urls\", \"type\": \"RECORD\", \"mode\": \"NULLABLE\", \"fields\": [{\"name\": \"small\", \"type\": \"STRING\", \"mode\": \"NULLABLE\"}]}, {\"name\": \"caption\", \"type\": \"STRING\", \"mode\": \"NULLABLE\"}, {\"name\": \"id\", \"type\": \"INTEGER\", \"mode\": \"NULLABLE\"}]}]}, {\"name\": \"typology\", \"type\": \"RECORD\", \"mode\": \"NULLABLE\", \"fields\": [{\"name\": \"name\", \"type\": \"STRING\", \"mode\": \"NULLABLE\"}, {\"name\": \"id\", \"type\": \"INTEGER\", \"mode\": \"NULLABLE\"}]}, {\"name\": \"surfaceValue\", \"type\": \"STRING\", \"mode\": \"NULLABLE\"}, {\"name\": \"surface\", \"type\": \"STRING\", \"mode\": \"NULLABLE\"}, {\"name\": \"price\", \"type\": \"RECORD\", \"mode\": \"NULLABLE\", \"fields\": [{\"name\": \"loweredPrice\", \"type\": \"RECORD\", \"mode\": \"NULLABLE\", \"fields\": [{\"name\": \"date\", \"type\": \"DATE\", \"mode\": \"NULLABLE\"}, {\"name\": \"typologiesCount\", \"type\": \"INTEGER\", \"mode\": \"NULLABLE\"}, {\"name\": \"passedDays\", \"type\": \"INTEGER\", \"mode\": \"NULLABLE\"}, {\"name\": \"priceDecreasedBy\", \"type\": \"INTEGER\", \"mode\": \"NULLABLE\"}, {\"name\": \"originalPrice\", \"type\": \"INTEGER\", \"mode\": \"NULLABLE\"}, {\"name\": \"discountPercentage\", \"type\": \"INTEGER\", \"mode\": \"NULLABLE\"}, {\"name\": \"currentPrice\", \"type\": \"INTEGER\", \"mode\": \"NULLABLE\"}]}, {\"name\": \"priceRange\", \"type\": \"STRING\", \"mode\": \"NULLABLE\"}, {\"name\": \"value\", \"type\": \"INTEGER\", \"mode\": \"NULLABLE\"}, {\"name\": \"formattedValue\", \"type\": \"INTEGER\", \"mode\": \"NULLABLE\"}, {\"name\": \"visible\", \"type\": \"BOOLEAN\", \"mode\": \"NULLABLE\"}]}, {\"name\": \"rooms\", \"type\": \"STRING\", \"mode\": \"NULLABLE\"}, {\"name\": \"income\", \"type\": \"BOOLEAN\", \"mode\": \"NULLABLE\"}, {\"name\": \"features\", \"type\": \"STRING\", \"mode\": \"REPEATED\"}, {\"name\": \"description\", \"type\": \"STRING\", \"mode\": \"NULLABLE\"}, {\"name\": \"ga4Condition\", \"type\": \"STRING\", \"mode\": \"NULLABLE\"}, {\"name\": \"category\", \"type\": \"RECORD\", \"mode\": \"NULLABLE\", \"fields\": [{\"name\": \"name\", \"type\": \"STRING\", \"mode\": \"NULLABLE\"}, {\"name\": \"id\", \"type\": \"INTEGER\", \"mode\": \"NULLABLE\"}]}]}, {\"name\": \"typology\", \"type\": \"RECORD\", \"mode\": \"NULLABLE\", \"fields\": [{\"name\": \"name\", \"type\": \"STRING\", \"mode\": \"NULLABLE\"}, {\"name\": \"id\", \"type\": \"INTEGER\", \"mode\": \"NULLABLE\"}]}, {\"name\": \"price\", \"type\": \"RECORD\", \"mode\": \"NULLABLE\", \"fields\": [{\"name\": \"priceRange\", \"type\": \"STRING\", \"mode\": \"NULLABLE\"}, {\"name\": \"value\", \"type\": \"INTEGER\", \"mode\": \"NULLABLE\"}, {\"name\": \"formattedValue\", \"type\": \"INTEGER\", \"mode\": \"NULLABLE\"}, {\"name\": \"visible\", \"type\": \"BOOLEAN\", \"mode\": \"NULLABLE\"}]}, {\"name\": \"type\", \"type\": \"STRING\", \"mode\": \"NULLABLE\"}, {\"name\": \"title\", \"type\": \"STRING\", \"mode\": \"NULLABLE\"}, {\"name\": \"luxury\", \"type\": \"BOOLEAN\", \"mode\": \"NULLABLE\"}, {\"name\": \"contract\", \"type\": \"STRING\", \"mode\": \"NULLABLE\"}, {\"name\": \"id\", \"type\": \"INTEGER\", \"mode\": \"NULLABLE\"}, {\"name\": \"advertiser\", \"type\": \"RECORD\", \"mode\": \"NULLABLE\", \"fields\": [{\"name\": \"agency\", \"type\": \"RECORD\", \"mode\": \"NULLABLE\", \"fields\": [{\"name\": \"customType\", \"type\": \"STRING\", \"mode\": \"NULLABLE\"}, {\"name\": \"agencyUrl\", \"type\": \"STRING\", \"mode\": \"NULLABLE\"}, {\"name\": \"label\", \"type\": \"STRING\", \"mode\": \"NULLABLE\"}, {\"name\": \"displayName\", \"type\": \"STRING\", \"mode\": \"NULLABLE\"}, {\"name\": \"imageUrls\", \"type\": \"RECORD\", \"mode\": \"NULLABLE\", \"fields\": [{\"name\": \"large\", \"type\": \"STRING\", \"mode\": \"NULLABLE\"}, {\"name\": \"small\", \"type\": \"STRING\", \"mode\": \"NULLABLE\"}]}, {\"name\": \"showAgentPhone\", \"type\": \"BOOLEAN\", \"mode\": \"NULLABLE\"}, {\"name\": \"id\", \"type\": \"INTEGER\", \"mode\": \"NULLABLE\"}, {\"name\": \"guaranteed\", \"type\": \"BOOLEAN\", \"mode\": \"NULLABLE\"}, {\"name\": \"bookableVisit\", \"type\": \"RECORD\", \"mode\": \"NULLABLE\", \"fields\": [{\"name\": \"virtualVisitEnabled\", \"type\": \"BOOLEAN\", \"mode\": \"NULLABLE\"}, {\"name\": \"isVisitBookable\", \"type\": \"BOOLEAN\", \"mode\": \"NULLABLE\"}]}, {\"name\": \"phones\", \"type\": \"RECORD\", \"mode\": \"REPEATED\", \"fields\": [{\"name\": \"value\", \"type\": \"STRING\", \"mode\": \"NULLABLE\"}, {\"name\": \"type\", \"type\": \"STRING\", \"mode\": \"NULLABLE\"}]}, {\"name\": \"isPaid\", \"type\": \"BOOLEAN\", \"mode\": \"NULLABLE\"}, {\"name\": \"type\", \"type\": \"STRING\", \"mode\": \"NULLABLE\"}]}, {\"name\": \"hasCallNumbers\", \"type\": \"BOOLEAN\", \"mode\": \"NULLABLE\"}]}, {\"name\": \"dataType\", \"type\": \"STRING\", \"mode\": \"NULLABLE\"}]}]'"
      ]
     },
     "execution_count": 54,
     "metadata": {},
     "output_type": "execute_result"
    }
   ],
   "source": [
    "serialize_json_schema(table_schema)"
   ]
  },
  {
   "cell_type": "code",
   "execution_count": 5,
   "metadata": {},
   "outputs": [
    {
     "name": "stdout",
     "output_type": "stream",
     "text": [
      "a\n",
      "(1, ('a', 'b'))\n"
     ]
    }
   ],
   "source": [
    "def fun1():\n",
    "    return 1,('a','b')\n",
    "\n",
    "def fun2(n,*args, **kwargs):\n",
    "\n",
    "    print(n[1][0])\n",
    "    print(n)\n",
    "\n",
    "\n",
    "fun2(fun1() )"
   ]
  },
  {
   "cell_type": "code",
   "execution_count": 9,
   "metadata": {},
   "outputs": [],
   "source": [
    "c, m= 1,(1,2)"
   ]
  },
  {
   "cell_type": "code",
   "execution_count": 7,
   "metadata": {},
   "outputs": [
    {
     "data": {
      "text/plain": [
       "1"
      ]
     },
     "execution_count": 7,
     "metadata": {},
     "output_type": "execute_result"
    }
   ],
   "source": [
    "m"
   ]
  }
 ],
 "metadata": {
  "kernelspec": {
   "display_name": "roma",
   "language": "python",
   "name": "python3"
  },
  "language_info": {
   "codemirror_mode": {
    "name": "ipython",
    "version": 3
   },
   "file_extension": ".py",
   "mimetype": "text/x-python",
   "name": "python",
   "nbconvert_exporter": "python",
   "pygments_lexer": "ipython3",
   "version": "3.10.4"
  },
  "orig_nbformat": 4
 },
 "nbformat": 4,
 "nbformat_minor": 2
}
