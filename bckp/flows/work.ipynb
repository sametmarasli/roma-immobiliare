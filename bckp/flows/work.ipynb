{
 "cells": [
  {
   "cell_type": "code",
   "execution_count": 2,
   "metadata": {},
   "outputs": [],
   "source": [
    "%load_ext autoreload \n",
    "%autoreload 2"
   ]
  },
  {
   "attachments": {},
   "cell_type": "markdown",
   "metadata": {},
   "source": [
    "## Notes"
   ]
  },
  {
   "cell_type": "code",
   "execution_count": null,
   "metadata": {},
   "outputs": [],
   "source": [
    "# Test data class\n",
    "from dataclasses import dataclass\n",
    "from typing import Optional, Literal\n",
    "import inspect\n",
    "\n",
    "@dataclass\n",
    "class BaseModel:\n",
    "\n",
    "    @classmethod\n",
    "    def from_dict(cls, env):      \n",
    "        return cls(**{\n",
    "            k: v for k, v in env.items() \n",
    "            if k in inspect.signature(cls).parameters\n",
    "        })\n",
    "\n",
    "\n",
    "ex = {\n",
    "    'a':1,\n",
    "    'b':1,\n",
    "    'c':'samet',\n",
    "\n",
    "}\n",
    "\n",
    "@dataclass\n",
    "class Tmp(BaseModel):\n",
    "    a : int\n",
    "    b : int\n",
    "    c : Literal['samet','ahmet']\n",
    "    d : Optional[str] = 1\n",
    "\n",
    "Tmp.from_dict(ex)"
   ]
  },
  {
   "attachments": {},
   "cell_type": "markdown",
   "metadata": {},
   "source": [
    "## Tests"
   ]
  },
  {
   "cell_type": "code",
   "execution_count": 57,
   "metadata": {},
   "outputs": [],
   "source": [
    "from src.models import ApiParameters\n",
    "from src.callapi import get_endpoint\n",
    "\n",
    "params = ApiParameters(prezzoMinimo=90_000,prezzoMassimo=100_000, pag=1)\n",
    "response = get_endpoint(params)\n",
    "\n"
   ]
  }
 ],
 "metadata": {
  "kernelspec": {
   "display_name": "roma",
   "language": "python",
   "name": "python3"
  },
  "language_info": {
   "codemirror_mode": {
    "name": "ipython",
    "version": 3
   },
   "file_extension": ".py",
   "mimetype": "text/x-python",
   "name": "python",
   "nbconvert_exporter": "python",
   "pygments_lexer": "ipython3",
   "version": "3.10.4"
  },
  "orig_nbformat": 4
 },
 "nbformat": 4,
 "nbformat_minor": 2
}
