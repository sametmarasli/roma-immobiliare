{
 "cells": [
  {
   "attachments": {},
   "cell_type": "markdown",
   "metadata": {},
   "source": [
    "## Notes"
   ]
  },
  {
   "cell_type": "code",
   "execution_count": 7,
   "metadata": {},
   "outputs": [],
   "source": [
    "# Test data class\n",
    "import inspect\n",
    "from dataclasses import dataclass\n",
    "from typing import Optional, Literal\n",
    "\n",
    "@dataclass\n",
    "class BaseModel:\n",
    "\n",
    "    @classmethod\n",
    "    def from_dict(cls, env):      \n",
    "        return cls(**{\n",
    "            k: v for k, v in env.items() \n",
    "            if k in inspect.signature(cls).parameters\n",
    "        })\n",
    "\n",
    "\n",
    "ex = {\n",
    "    'a':1,\n",
    "    'b':1,\n",
    "    'c':'samet',\n",
    "    'd':'samet',\n",
    "}\n",
    "\n",
    "ex2 = {\n",
    "    'a':2,\n",
    "    'b':1,\n",
    "    'c':'samet',\n",
    "    'd':'samet',\n",
    "}\n",
    "@dataclass\n",
    "class Tmp(BaseModel):\n",
    "    a : int\n",
    "    b : int\n",
    "    c : Literal['samet','ahmet']\n",
    "    \n",
    "\n",
    "a = Tmp.from_dict(ex)\n",
    "b = Tmp.from_dict(ex2)\n"
   ]
  },
  {
   "cell_type": "code",
   "execution_count": 9,
   "metadata": {},
   "outputs": [],
   "source": [
    "from dataclasses import dataclass, asdict"
   ]
  },
  {
   "cell_type": "code",
   "execution_count": 13,
   "metadata": {},
   "outputs": [
    {
     "ename": "TypeError",
     "evalue": "'Tmp' object is not iterable",
     "output_type": "error",
     "traceback": [
      "\u001b[0;31m---------------------------------------------------------------------------\u001b[0m",
      "\u001b[0;31mTypeError\u001b[0m                                 Traceback (most recent call last)",
      "Cell \u001b[0;32mIn[13], line 1\u001b[0m\n\u001b[0;32m----> 1\u001b[0m \u001b[39mdict\u001b[39;49m(a)\n",
      "\u001b[0;31mTypeError\u001b[0m: 'Tmp' object is not iterable"
     ]
    }
   ],
   "source": []
  },
  {
   "cell_type": "code",
   "execution_count": 8,
   "metadata": {},
   "outputs": [
    {
     "data": {
      "text/plain": [
       "[Tmp(a=1, b=1, c='samet'), Tmp(a=2, b=1, c='samet')]"
      ]
     },
     "execution_count": 8,
     "metadata": {},
     "output_type": "execute_result"
    }
   ],
   "source": []
  }
 ],
 "metadata": {
  "kernelspec": {
   "display_name": "fistik",
   "language": "python",
   "name": "python3"
  },
  "language_info": {
   "codemirror_mode": {
    "name": "ipython",
    "version": 3
   },
   "file_extension": ".py",
   "mimetype": "text/x-python",
   "name": "python",
   "nbconvert_exporter": "python",
   "pygments_lexer": "ipython3",
   "version": "3.10.4"
  },
  "orig_nbformat": 4
 },
 "nbformat": 4,
 "nbformat_minor": 2
}
